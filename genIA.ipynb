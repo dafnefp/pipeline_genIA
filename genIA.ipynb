{
 "cells": [
  {
   "cell_type": "code",
   "execution_count": null,
   "metadata": {},
   "outputs": [],
   "source": []
  }
 ],
 "metadata": {
  "kernelspec": {
   "display_name": "project_genIA",
   "language": "python",
   "name": "python3"
  },
  "language_info": {
   "name": "python",
   "version": "3.11.9 | packaged by Anaconda, Inc. | (main, Apr 19 2024, 16:40:41) [MSC v.1916 64 bit (AMD64)]"
  },
  "orig_nbformat": 4,
  "vscode": {
   "interpreter": {
    "hash": "e48997f8e0443c58ff2f2bc6963c0bcf176cc694b1a4e173b9ea0d4aeabebe96"
   }
  }
 },
 "nbformat": 4,
 "nbformat_minor": 2
}
