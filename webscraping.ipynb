{
 "cells": [
  {
   "cell_type": "code",
   "execution_count": 1,
   "metadata": {},
   "outputs": [],
   "source": [
    "import pandas as pd\n",
    "\n",
    "from selenium import webdriver\n",
    "from selenium.webdriver.common.by import By\n",
    "from bs4 import BeautifulSoup\n",
    "\n",
    "from time import sleep"
   ]
  },
  {
   "attachments": {},
   "cell_type": "markdown",
   "metadata": {},
   "source": [
    "Iniciando uma instância do google chrome"
   ]
  },
  {
   "cell_type": "code",
   "execution_count": 2,
   "metadata": {},
   "outputs": [],
   "source": [
    "# webdriver.chromeoption é usado para definir a preferencia para o brower do chrome\n",
    "options = webdriver.ChromeOptions()\n",
    "# options.add_argument('--headless')\n",
    "\n",
    "# inicia-se a instancia do chrome webdriver com as definidas options e service\n",
    "driver = webdriver.Chrome(options=options)\n",
    "\n",
    "url = 'https://www.infomoney.com.br/ferramentas/altas-e-baixas/'\n",
    "\n",
    "driver.get(url)"
   ]
  },
  {
   "attachments": {},
   "cell_type": "markdown",
   "metadata": {},
   "source": [
    "teste 1"
   ]
  },
  {
   "cell_type": "code",
   "execution_count": 3,
   "metadata": {},
   "outputs": [],
   "source": [
    "table = driver.find_element(By.TAG_NAME, 'table')\n",
    "\n",
    "rows = table.find_elements(By.TAG_NAME, 'tr')\n",
    "\n",
    "acoes = []\n",
    "\n",
    "for row in rows[1:]:\n",
    "    # Find all the cells in the row\n",
    "    cells = row.find_elements(By.TAG_NAME, 'td')\n",
    "\n",
    "    # Extract text from each cell\n",
    "    row_data = [cell.text for cell in cells]\n",
    "\n",
    "    acoes.append(row_data[0])"
   ]
  },
  {
   "cell_type": "code",
   "execution_count": null,
   "metadata": {},
   "outputs": [],
   "source": [
    "# # Find all the cells in the row\n",
    "# titulos = rows[0].find_elements(By.TAG_NAME, 'th')\n",
    "\n",
    "# # Extract text from each cell\n",
    "# titulo_name = [cell.text for cell in titulos]\n",
    "\n",
    "# # Do something with the data (e.g., print it, store it)\n",
    "# print(titulo_name)\n"
   ]
  },
  {
   "attachments": {},
   "cell_type": "markdown",
   "metadata": {},
   "source": [
    "teste 2"
   ]
  },
  {
   "cell_type": "code",
   "execution_count": 3,
   "metadata": {},
   "outputs": [],
   "source": [
    "site = BeautifulSoup(driver.page_source, 'html.parser')\n",
    "\n",
    "linhas = site.find_all('tr', {'role':'row'})\n",
    "\n",
    "acoes2 = []\n",
    "\n",
    "for i in linhas[1:]:\n",
    "    filhas = i.find(\"a\")\n",
    "    acoes2.append(filhas.text)\n",
    "\n",
    "sleep(3)\n",
    "\n",
    "driver.quit()"
   ]
  },
  {
   "cell_type": "code",
   "execution_count": 4,
   "metadata": {},
   "outputs": [
    {
     "data": {
      "text/plain": [
       "['BRKM5',\n",
       " 'AZUL4',\n",
       " 'AZZA3',\n",
       " 'PETZ3',\n",
       " 'CRFB3',\n",
       " 'VIVA3',\n",
       " 'RENT3',\n",
       " 'USIM5',\n",
       " 'TIMS3',\n",
       " 'RADL3',\n",
       " 'TRPL4',\n",
       " 'SMTO3',\n",
       " 'ASAI3',\n",
       " 'RDOR3',\n",
       " 'NTCO3',\n",
       " 'VIVT3',\n",
       " 'CXSE3',\n",
       " 'SBSP3',\n",
       " 'CVCB3',\n",
       " 'HAPV3',\n",
       " 'SUZB3',\n",
       " 'ABEV3',\n",
       " 'FLRY3',\n",
       " 'STBP3',\n",
       " 'EQTL3',\n",
       " 'CCRO3',\n",
       " 'VAMO3',\n",
       " 'ALOS3',\n",
       " 'MULT3',\n",
       " 'PCAR3',\n",
       " 'AURE3',\n",
       " 'CPFE3',\n",
       " 'RECV3',\n",
       " 'ITUB4',\n",
       " 'IRBR3',\n",
       " 'EZTC3',\n",
       " 'GGBR4',\n",
       " 'WEGE3',\n",
       " 'CMIG4',\n",
       " 'ITSA4',\n",
       " 'GOAU4',\n",
       " 'BBSE3',\n",
       " 'VBBR3',\n",
       " 'ENEV3',\n",
       " 'EGIE3',\n",
       " 'BBDC4',\n",
       " 'LREN3',\n",
       " 'RAIL3',\n",
       " 'LWSA3',\n",
       " 'ELET6',\n",
       " 'B3SA3',\n",
       " 'UGPA3',\n",
       " 'CPLE6',\n",
       " 'BBAS3',\n",
       " 'RAIZ4',\n",
       " 'SLCE3',\n",
       " 'ELET3',\n",
       " 'BBDC3',\n",
       " 'PRIO3',\n",
       " 'CSAN3',\n",
       " 'CYRE3',\n",
       " 'HYPE3',\n",
       " 'ALPA4',\n",
       " 'CSNA3',\n",
       " 'TOTS3',\n",
       " 'BRAV3',\n",
       " 'BRAP4',\n",
       " 'EMBR3',\n",
       " 'VALE3',\n",
       " 'MGLU3',\n",
       " 'COGN3',\n",
       " 'MRVE3',\n",
       " 'PETR4',\n",
       " 'PETR3',\n",
       " 'YDUQ3',\n",
       " 'BEEF3',\n",
       " 'BRFS3',\n",
       " 'MRFG3',\n",
       " 'JBSS3',\n",
       " 'CMIN3']"
      ]
     },
     "execution_count": 4,
     "metadata": {},
     "output_type": "execute_result"
    }
   ],
   "source": [
    "acoes2"
   ]
  },
  {
   "attachments": {},
   "cell_type": "markdown",
   "metadata": {},
   "source": [
    "buscando pelo codigo"
   ]
  },
  {
   "cell_type": "code",
   "execution_count": null,
   "metadata": {},
   "outputs": [],
   "source": [
    "escolha = acoes2[1]\n",
    "\n",
    "print(escolha)"
   ]
  },
  {
   "cell_type": "code",
   "execution_count": 13,
   "metadata": {},
   "outputs": [],
   "source": [
    "# webdriver.chromeoption é usado para definir a preferencia para o brower do chrome\n",
    "options = webdriver.ChromeOptions()\n",
    "# options.add_argument('--headless')\n",
    "\n",
    "# inicia-se a instancia do chrome webdriver com as definidas options e service\n",
    "driver = webdriver.Chrome(options=options)\n",
    "\n",
    "url_acao = 'https://www.infomoney.com.br/' + escolha\n",
    "\n",
    "driver.get(url_acao)"
   ]
  },
  {
   "cell_type": "code",
   "execution_count": 34,
   "metadata": {},
   "outputs": [],
   "source": [
    "site = BeautifulSoup(driver.page_source, 'html.parser')\n",
    "\n",
    "link_tag = site.find_all('link', {'rel':'canonical'})\n",
    "\n",
    "aux = link_tag[0]\n",
    "\n",
    "link = aux['href']\n",
    "\n",
    "\n",
    "url_historio = link + 'historico'\n",
    "\n",
    "driver.get(url_historio)\n",
    "\n",
    "# acoes2 = []\n",
    "\n",
    "# for i in linhas[1:]:\n",
    "#     filhas = i.find(\"a\")\n",
    "#     acoes2.append(filhas.text)\n",
    "\n",
    "# driver.quit()"
   ]
  }
 ],
 "metadata": {
  "kernelspec": {
   "display_name": "project_genIA",
   "language": "python",
   "name": "python3"
  },
  "language_info": {
   "codemirror_mode": {
    "name": "ipython",
    "version": 3
   },
   "file_extension": ".py",
   "mimetype": "text/x-python",
   "name": "python",
   "nbconvert_exporter": "python",
   "pygments_lexer": "ipython3",
   "version": "3.11.9"
  },
  "orig_nbformat": 4,
  "vscode": {
   "interpreter": {
    "hash": "e48997f8e0443c58ff2f2bc6963c0bcf176cc694b1a4e173b9ea0d4aeabebe96"
   }
  }
 },
 "nbformat": 4,
 "nbformat_minor": 2
}
