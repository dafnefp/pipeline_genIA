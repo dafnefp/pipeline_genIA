{
 "cells": [
  {
   "attachments": {},
   "cell_type": "markdown",
   "metadata": {},
   "source": [
    "Chat GPT - Pago"
   ]
  },
  {
   "cell_type": "code",
   "execution_count": null,
   "metadata": {},
   "outputs": [],
   "source": [
    "import openai\n",
    "import os"
   ]
  },
  {
   "cell_type": "code",
   "execution_count": null,
   "metadata": {},
   "outputs": [],
   "source": [
    "openai.api_key = os.getenv(\"OPENAI_API_KEY\")"
   ]
  },
  {
   "cell_type": "code",
   "execution_count": null,
   "metadata": {},
   "outputs": [],
   "source": [
    "def ask_chatgpt(question: str):\n",
    "    response = openai.chat.completions.create(\n",
    "        model = 'gpt-3.5-turbo',\n",
    "        messages=[\n",
    "            {\"role\": \"user\",\n",
    "             \"content\": question}\n",
    "        ]\n",
    "    )\n",
    "    return response.choices[0].message.content\n",
    "\n",
    "question = \"Quanto eu vendi ontem?\"\n",
    "answer = ask_chatgpt(question)\n",
    "\n",
    "print(answer)"
   ]
  },
  {
   "attachments": {},
   "cell_type": "markdown",
   "metadata": {},
   "source": [
    "Groq"
   ]
  },
  {
   "cell_type": "code",
   "execution_count": 6,
   "metadata": {},
   "outputs": [],
   "source": [
    "import os\n",
    "from groq import Groq\n",
    "from dotenv import load_dotenv\n",
    "import pandas as pd"
   ]
  },
  {
   "cell_type": "code",
   "execution_count": 2,
   "metadata": {},
   "outputs": [
    {
     "data": {
      "text/plain": [
       "True"
      ]
     },
     "execution_count": 2,
     "metadata": {},
     "output_type": "execute_result"
    }
   ],
   "source": [
    "load_dotenv()"
   ]
  },
  {
   "cell_type": "code",
   "execution_count": 7,
   "metadata": {},
   "outputs": [],
   "source": [
    "data = {\n",
    "    \"DATA\": [\n",
    "        \"30/08/2024\", \"29/08/2024\", \"28/08/2024\", \"27/08/2024\", \"26/08/2024\",\n",
    "        \"23/08/2024\", \"22/08/2024\", \"21/08/2024\", \"20/08/2024\", \"19/08/2024\",\n",
    "        \"16/08/2024\", \"15/08/2024\"\n",
    "    ],\n",
    "    \"ABERTURA\": [\n",
    "        3.26, 3.26, 3.27, 3.29, 3.25,\n",
    "        3.22, 3.25, 3.29, 3.31, 3.31,\n",
    "        3.29, 3.23\n",
    "    ],\n",
    "    \"FECHAMENTO\": [\n",
    "        3.21, 3.21, 3.27, 3.28, 3.30,\n",
    "        3.27, 3.24, 3.25, 3.30, 3.30,\n",
    "        3.30, 3.28\n",
    "    ],\n",
    "    \"VARIAÇÃO\": [\n",
    "        0.00, -1.83, -0.30, -0.61, 0.92,\n",
    "        0.93, -0.31, -1.52, 0.00, 0.00,\n",
    "        0.61, 0.92\n",
    "    ],\n",
    "    \"MÍNIMO\": [\n",
    "        3.15, 3.17, 3.21, 3.26, 3.20,\n",
    "        3.22, 3.20, 3.22, 3.24, 3.28,\n",
    "        3.25, 3.21\n",
    "    ],\n",
    "    \"MÁXIMO\": [\n",
    "        3.22, 3.27, 3.29, 3.32, 3.32,\n",
    "        3.32, 3.28, 3.33, 3.31, 3.35,\n",
    "        3.32, 3.32\n",
    "    ],\n",
    "    \"VOLUME\": [\n",
    "        \"73,35M\", \"42,01M\", \"37,55M\", \"85,22M\", \"44,74M\",\n",
    "        \"57,19M\", \"46,24M\", \"81,11M\", \"42,52M\", \"60,46M\",\n",
    "        \"48,96M\", \"53,27M\"\n",
    "    ]\n",
    "}\n",
    "\n",
    "df = pd.DataFrame(data)"
   ]
  },
  {
   "cell_type": "code",
   "execution_count": 8,
   "metadata": {},
   "outputs": [],
   "source": [
    "client = Groq(\n",
    "    api_key=os.environ.get(\"GROQ_API_KEY\"),\n",
    ")"
   ]
  },
  {
   "cell_type": "code",
   "execution_count": 11,
   "metadata": {},
   "outputs": [
    {
     "name": "stdout",
     "output_type": "stream",
     "text": [
      "O preço de abertura na data 16/08/2024 foi de 3.29.\n"
     ]
    }
   ],
   "source": [
    "def ask_groq(question, df):\n",
    "    df_json = df.to_json(orient=\"records\", force_ascii=False, date_format='iso')\n",
    "\n",
    "    content = {\n",
    "        \"question\": question,\n",
    "        \"sales_data\": df_json\n",
    "    }\n",
    "    chat_completion = client.chat.completions.create(\n",
    "        messages=[\n",
    "            {\n",
    "                \"role\": \"user\",\n",
    "                \"content\": str(content),\n",
    "            }\n",
    "        ],\n",
    "        model=\"llama3-8b-8192\",\n",
    "    )\n",
    "\n",
    "    return chat_completion.choices[0].message.content\n",
    "\n",
    "prompt_inicial = \"Os dados apresentam informações sobre uma ação da bolsa de valores. \\\n",
    "        Cada registro corresponde a um dia e os respectivos valores de abertura, valores de fechamento, \\\n",
    "        valor minimo e maximo atingido, variação em percentual do fechamento de um dia em comparação com o \\\n",
    "        anterior e o volume de ações negociadas no dia. Com essas informações me responda: \"\n",
    "prompt_fim = \"Apenas me traga a informação pedida, por exemplo se eu perguntar qual foi o maior valor? \\\n",
    "        você responderá: O maior valor foi XX, no dia xx/xx/xxxx, ou então se perguntar qual foi o preço de \\\n",
    "        abertura no dia xx/xx/xx, você responderá: o preço de abertura no dia xx/xx/xx foi de XX\"\n",
    "\n",
    "question = f'{prompt_inicial} Qual foi o preço de abertura na data 16/08/2024? {prompt_fim}'\n",
    "answer = ask_groq(question, df)\n",
    "\n",
    "print(answer)"
   ]
  }
 ],
 "metadata": {
  "kernelspec": {
   "display_name": "project_genIA",
   "language": "python",
   "name": "python3"
  },
  "language_info": {
   "codemirror_mode": {
    "name": "ipython",
    "version": 3
   },
   "file_extension": ".py",
   "mimetype": "text/x-python",
   "name": "python",
   "nbconvert_exporter": "python",
   "pygments_lexer": "ipython3",
   "version": "3.11.9"
  },
  "orig_nbformat": 4,
  "vscode": {
   "interpreter": {
    "hash": "e48997f8e0443c58ff2f2bc6963c0bcf176cc694b1a4e173b9ea0d4aeabebe96"
   }
  }
 },
 "nbformat": 4,
 "nbformat_minor": 2
}
